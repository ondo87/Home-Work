import pandas as pd
import numpy as np
import matplotlib.pyplot as plt

data = pd.read_csv("https://archive.ics.uci.edu/ml/machine-learning-databases/flags/flag.data", header=None,
                names=['Name','Landmass','Zone','Area','Population','Language','Religion','Bars','Stripes','Colours','Red',
                       'Green','Blue','Gold','White','Black','Orange','Mainhue','Circles','Crosses','Saltires','Quarters',
                       'Sunstars','Crescent','Triangle','Icon','Animate','Text','Topleft','Botright'])
df = pd.DataFrame(data)
df.head()


def replace_missing(df):
    for i, j in df.iterrows():
        ct = 0 
        for col in j:
            if(col == '?'):
                df.iloc[i,ct] = np.nan
            ct += 1
    return df
df_new = replace_missing(df)
print(df['Language'].min())
print(df['Language'].max())
print(df['Language'].count())

df.count(0)

df.count(1)

language_col = df['Language']
language_data = {}
for x in language_col:
    language_data[x] = language_data.get(x, 0) + 1
language = []
freq     = []
for i in language_data:
    language.append(i)
    freq.append(language_data.get(i))
language[:194]

freq[:194]

x = language
y = freq
plt.bar(x,y,align='center')
plt.xlabel('Language')
plt.ylabel('Freq')
for i in range(len(y)):
    plt.hlines(y[i],1,x[i], color="green", linestyle=':')
plt.show()
